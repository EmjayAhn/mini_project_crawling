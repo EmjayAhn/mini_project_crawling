{
 "cells": [
  {
   "cell_type": "code",
   "execution_count": null,
   "metadata": {},
   "outputs": [],
   "source": [
    "from selenium import webdriver\n",
    "from fake_useragent import UserAgent\n",
    "import time\n",
    "import pandas as pd\n",
    "import numpy as np"
   ]
  },
  {
   "cell_type": "code",
   "execution_count": null,
   "metadata": {},
   "outputs": [],
   "source": [
    "def crawling(tap, headless=True):\n",
    "    taps = [\"Summary\", \"Defensive\", \"Offensive\", \"Passing\"]\n",
    "    \n",
    "    def loading(driver, waiting_time=1, maximum_waiting_time=10):\n",
    "        print(\"loading.\", end=\"\")\n",
    "        while True:\n",
    "            waiting_signal = driver.find_element_by_css_selector(\"#statistics-table-{}-loading\".format(tap.lower())).get_attribute(\"style\")\n",
    "            time.sleep(waiting_time)\n",
    "            \n",
    "            if waiting_signal == \"display: none;\":\n",
    "                break\n",
    "            \n",
    "            maximum_waiting_time -= 1\n",
    "            if not maximum_waiting_time:\n",
    "                break\n",
    "            \n",
    "            print(\".\", end=\"\")\n",
    "    \n",
    "    def click_next(driver):\n",
    "        driver.find_element_by_css_selector(\"#statistics-paging-{} #next\".format(tap.lower())).click()\n",
    "    \n",
    "    # Crawling 시작\n",
    "    driver = webdriver.Chrome()\n",
    "    driver.get(\"https://www.whoscored.com/Statistics\")\n",
    "    \n",
    "    loading(driver)\n",
    "    \n",
    "    #해당Tap 클릭\n",
    "    driver.find_element_by_css_selector(\"#top-player-stats-options > li:nth-child({}) > a\".format(taps.index(tap)+1)).click()\n",
    "    loading(driver)\n",
    "    \n",
    "    #Read Total Pages\n",
    "    paging_div = driver.find_element_by_css_selector(\"#statistics-paging-{}\".format(tap.lower()))\n",
    "    total_pages = int(paging_div.text.split('/')[1].split(' ')[0])\n",
    "    \n",
    "    #head crawling\n",
    "    features = []\n",
    "    theads = driver.find_elements_by_css_selector(\"#statistics-table-{} > table > thead > tr > th\".format(tap.lower()))\n",
    "    for thead in theads:\n",
    "        features.append(thead.text)\n",
    "    \n",
    "    #body crawling\n",
    "    players_data = list()\n",
    "    for page in range(total_pages):\n",
    "        print(\"\\nCrawling {}page..\".format(page + 1))\n",
    "        tbody_rows = driver.find_elements_by_css_selector(\"#statistics-table-{} > table > tbody > tr\".format(tap.lower()))\n",
    "        for tbody_row in range(len(tbody_rows)):\n",
    "            player_data = dict()\n",
    "            for index_feature in range(len(features)):\n",
    "                player_data[features[index_feature]] = tbody_rows[tbody_row].find_elements_by_css_selector(\"td\")[index_feature].text\n",
    "            players_data.append(player_data)\n",
    "        print(\"Crawling {}page DONE!\\n\".format(page + 1))\n",
    "        click_next(driver)\n",
    "        loading(driver)\n",
    "        \n",
    "    print(\"\\n!!!!ALL CRAWLING SUCCEDED!!!!\")\n",
    "    \n",
    "    #DataFrame Return\n",
    "    return pd.DataFrame(columns=features, data=players_data)\n",
    "    \n",
    "    "
   ]
  },
  {
   "cell_type": "code",
   "execution_count": null,
   "metadata": {},
   "outputs": [],
   "source": [
    "crawl = crawling(\"Offensive\")\n",
    "#crawling 변수명에 \"Offensive\", \"Summary\", \"Defensive\", \"Passing\" 중에 하나 넣으시면 됩니다.\n",
    "#혹시 돌려보시고 안되시면 말씀해주세요 ㅎㅎ"
   ]
  },
  {
   "cell_type": "code",
   "execution_count": null,
   "metadata": {},
   "outputs": [],
   "source": []
  }
 ],
 "metadata": {
  "kernelspec": {
   "display_name": "Python 3",
   "language": "python",
   "name": "python3"
  },
  "language_info": {
   "codemirror_mode": {
    "name": "ipython",
    "version": 3
   },
   "file_extension": ".py",
   "mimetype": "text/x-python",
   "name": "python",
   "nbconvert_exporter": "python",
   "pygments_lexer": "ipython3",
   "version": "3.7.0"
  }
 },
 "nbformat": 4,
 "nbformat_minor": 2
}
